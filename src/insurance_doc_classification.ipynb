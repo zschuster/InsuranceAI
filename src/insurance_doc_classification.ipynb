{
 "cells": [
  {
   "cell_type": "code",
   "execution_count": null,
   "metadata": {},
   "outputs": [],
   "source": [
    "from prep_data import load_and_prepare_data, create_datasets"
   ]
  },
  {
   "cell_type": "markdown",
   "metadata": {},
   "source": [
    "## Data Preparation\n",
    "\n",
    "We first need to prepare out synthetic data for fine tuning our model. We'd want many more examples than 15, but this is just a demo."
   ]
  },
  {
   "cell_type": "code",
   "execution_count": 2,
   "metadata": {},
   "outputs": [
    {
     "name": "stdout",
     "output_type": "stream",
     "text": [
      "Loading dataset from: ../data/synthetic_insurance_data.json\n",
      "\n",
      "Dataset split complete:\n",
      "Training examples: 12\n",
      "Testing examples: 3\n"
     ]
    }
   ],
   "source": [
    "# Load and split the data\n",
    "data_splits = load_and_prepare_data(file_path=\"../data/synthetic_insurance_data.json\")"
   ]
  },
  {
   "cell_type": "code",
   "execution_count": 3,
   "metadata": {},
   "outputs": [
    {
     "name": "stdout",
     "output_type": "stream",
     "text": [
      "\n",
      "Initializing tokenizer: distilroberta-base\n"
     ]
    }
   ],
   "source": [
    "\n",
    "# Create datasets\n",
    "tokenizer, train_dataset, test_dataset = create_datasets(data_splits)"
   ]
  },
  {
   "cell_type": "code",
   "execution_count": 4,
   "metadata": {},
   "outputs": [
    {
     "name": "stdout",
     "output_type": "stream",
     "text": [
      "\n",
      "Example from training dataset:\n",
      "Input IDs shape: torch.Size([69])\n",
      "Attention mask shape: torch.Size([69])\n",
      "Label: 1\n"
     ]
    }
   ],
   "source": [
    "\n",
    "# Let's look at an example from our training dataset\n",
    "print(\"\\nExample from training dataset:\")\n",
    "example_idx = 0\n",
    "example = train_dataset[example_idx]\n",
    "\n",
    "print(\"Input IDs shape:\", example['input_ids'].shape)\n",
    "print(\"Attention mask shape:\", example['attention_mask'].shape)\n",
    "print(\"Label:\", example['labels'])"
   ]
  },
  {
   "cell_type": "markdown",
   "metadata": {},
   "source": [
    "We now have a dataset that we can use to fine tune our model."
   ]
  },
  {
   "cell_type": "markdown",
   "metadata": {},
   "source": [
    "## Fine Tuning RoBERTa\n",
    "\n",
    "We'll use the `AutoModelForSequenceClassification` class to fine tune our RoBERTa model."
   ]
  }
 ],
 "metadata": {
  "kernelspec": {
   "display_name": ".venv",
   "language": "python",
   "name": "python3"
  },
  "language_info": {
   "codemirror_mode": {
    "name": "ipython",
    "version": 3
   },
   "file_extension": ".py",
   "mimetype": "text/x-python",
   "name": "python",
   "nbconvert_exporter": "python",
   "pygments_lexer": "ipython3",
   "version": "3.12.8"
  }
 },
 "nbformat": 4,
 "nbformat_minor": 2
}
